{
 "cells": [
  {
   "cell_type": "code",
   "execution_count": 2,
   "metadata": {},
   "outputs": [],
   "source": [
    "import numpy as np\n",
    "import pandas as pd\n",
    "import matplotlib.pyplot as plt"
   ]
  },
  {
   "cell_type": "code",
   "execution_count": 3,
   "metadata": {},
   "outputs": [],
   "source": [
    "koi142 = pd.read_csv('koi142.csv')\n"
   ]
  },
  {
   "cell_type": "code",
   "execution_count": 4,
   "metadata": {},
   "outputs": [
    {
     "name": "stdout",
     "output_type": "stream",
     "text": [
      "    epoch           t0s   t0s_err\n",
      "0       0  54955.078824  0.001464\n",
      "1       1  54966.004573  0.001418\n",
      "2       2  54976.930565  0.001519\n",
      "3       3  54987.851209  0.001456\n",
      "4       5  55009.694555  0.001297\n",
      "..    ...           ...       ...\n",
      "95    110  56159.953311  0.001238\n",
      "96    111  56170.881352  0.000814\n",
      "97    112  56181.824550  0.001186\n",
      "98    113  56192.741589  0.001088\n",
      "99    114  56203.670215  0.001040\n",
      "\n",
      "[100 rows x 3 columns]\n"
     ]
    }
   ],
   "source": [
    "#koi142 times from https://arxiv.org/pdf/1909.02427.pdf\n",
    "#koi142 period from https://arxiv.org/pdf/1909.02427.pdf\n",
    "koi142_period = 10.954204\n",
    "print(koi142)"
   ]
  },
  {
   "cell_type": "code",
   "execution_count": 5,
   "metadata": {},
   "outputs": [],
   "source": [
    "koi142_t0 = koi142['t0s'][0]\n",
    "n_transits = len(koi142['t0s'])\n",
    "\n",
    "\n",
    "koi142_ttvs = []\n",
    "for ii in range(0, n_transits):\n",
    "    epoch = koi142['epoch'][ii]\n",
    "    koi142_linear_t0 = koi142_t0 + koi142_period*epoch\n",
    "    \n",
    "    koi142_ttv = (koi142['t0s'][ii] - koi142_linear_t0)*24*60\n",
    "    koi142_ttvs.append(koi142_ttv)\n",
    "    \n",
    "koi142_ttvs = np.array(koi142_ttvs)"
   ]
  },
  {
   "cell_type": "code",
   "execution_count": 6,
   "metadata": {},
   "outputs": [
    {
     "data": {
      "text/plain": [
       "Text(0, 0.5, 'TTVs [min]')"
      ]
     },
     "execution_count": 6,
     "metadata": {},
     "output_type": "execute_result"
    },
    {
     "data": {
      "image/png": "[encoded data removed]",
      "text/plain": [
       "<Figure size 432x288 with 1 Axes>"
      ]
     },
     "metadata": {
      "needs_background": "light"
     },
     "output_type": "display_data"
    }
   ],
   "source": [
    "plt.plot(koi142['epoch'], koi142_ttvs,\n",
    "             color = 'k', ls='', marker='o')\n",
    "plt.xlabel('epoch #')\n",
    "plt.ylabel('TTVs [min]')"
   ]
  },
  {
   "cell_type": "code",
   "execution_count": null,
   "metadata": {},
   "outputs": [],
   "source": []
  }
 ],
 "metadata": {
  "kernelspec": {
   "display_name": "Python 3",
   "language": "python",
   "name": "python3"
  },
  "language_info": {
   "codemirror_mode": {
    "name": "ipython",
    "version": 3
   },
   "file_extension": ".py",
   "mimetype": "text/x-python",
   "name": "python",
   "nbconvert_exporter": "python",
   "pygments_lexer": "ipython3",
   "version": "3.6.8"
  }
 },
 "nbformat": 4,
 "nbformat_minor": 2
}
