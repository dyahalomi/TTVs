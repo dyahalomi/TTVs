{
 "cells": [
  {
   "cell_type": "code",
   "execution_count": 1,
   "metadata": {},
   "outputs": [],
   "source": [
    "import numpy as np\n",
    "import pandas as pd\n",
    "import matplotlib.pyplot as plt"
   ]
  },
  {
   "cell_type": "code",
   "execution_count": 12,
   "metadata": {},
   "outputs": [],
   "source": [
    "koi142 = pd.read_csv('koi142.csv')\n",
    "koi872 = pd.read_csv('koi872.csv')\n"
   ]
  },
  {
   "cell_type": "code",
   "execution_count": 13,
   "metadata": {},
   "outputs": [
    {
     "name": "stdout",
     "output_type": "stream",
     "text": [
      "    epoch         t0s  t0s_err\n",
      "0       1  55019.6993   0.0012\n",
      "1       2  55053.2959   0.0010\n",
      "2       3  55086.8640   0.0011\n",
      "3       4  55120.4409   0.0018\n",
      "4       6  55187.6880   0.0015\n",
      "5       7  55221.3360   0.0016\n",
      "6       8  55254.9066   0.0011\n",
      "7       9  55288.4664   0.0012\n",
      "8      11  55355.6667   0.0010\n",
      "9      12  55389.3438   0.0011\n",
      "10     13  55422.9309   0.0017\n",
      "11     14  55456.4875   0.0011\n",
      "12     15  55490.0601   0.0009\n",
      "13     18  55590.9283   0.0008\n",
      "14     19  55624.5138   0.0008\n",
      "15     20  55658.0838   0.0011\n",
      "16     21  55691.6593   0.0008\n",
      "17     22  55725.3035   0.0009\n",
      "18     23  55758.9147   0.0009\n",
      "19     24  55792.5562   0.0010\n",
      "20     25  55826.1262   0.0011\n",
      "21     26  55859.6845   0.0017\n",
      "22     27  55893.2891   0.0011\n",
      "23     29  55960.5704   0.0010\n",
      "24     31  56027.7090   0.0010\n",
      "25     32  56061.2821   0.0010\n",
      "26     33  56094.8799   0.0010\n",
      "27     35  56162.1511   0.0011\n",
      "28     36  56195.7346   0.0014\n",
      "29     37  56229.3033   0.0012\n",
      "30     38  56262.8845   0.0013\n",
      "31     39  56296.5319   0.0012\n",
      "32     40  56330.1453   0.0010\n",
      "33     41  56363.7757   0.0010\n",
      "34     42  56397.3426   0.0010\n"
     ]
    }
   ],
   "source": [
    "#koi872 times from https://arxiv.org/pdf/1704.01541.pdf\n",
    "#koi872 period from https://arxiv.org/pdf/1704.01541.pdf\n",
    "koi872_period = 33.648\n",
    "print(koi872)"
   ]
  },
  {
   "cell_type": "code",
   "execution_count": 25,
   "metadata": {},
   "outputs": [
    {
     "name": "stdout",
     "output_type": "stream",
     "text": [
      "55019.6993\n",
      "55019.6993\n",
      "\n",
      "55053.3473\n",
      "55053.2959\n",
      "\n",
      "55086.9953\n",
      "55086.864\n",
      "\n",
      "55120.6433\n",
      "55120.4409\n",
      "\n",
      "55187.9393\n",
      "55187.687999999995\n",
      "\n",
      "55221.5873\n",
      "55221.335999999996\n",
      "\n",
      "55255.2353\n",
      "55254.9066\n",
      "\n",
      "55288.8833\n",
      "55288.4664\n",
      "\n",
      "55356.1793\n",
      "55355.6667\n",
      "\n",
      "55389.8273\n",
      "55389.3438\n",
      "\n",
      "55423.4753\n",
      "55422.9309\n",
      "\n",
      "55457.1233\n",
      "55456.4875\n",
      "\n",
      "55490.7713\n",
      "55490.0601\n",
      "\n",
      "55591.7153\n",
      "55590.9283\n",
      "\n",
      "55625.3633\n",
      "55624.5138\n",
      "\n",
      "55659.0113\n",
      "55658.0838\n",
      "\n",
      "55692.6593\n",
      "55691.6593\n",
      "\n",
      "55726.3073\n",
      "55725.3035\n",
      "\n",
      "55759.9553\n",
      "55758.9147\n",
      "\n",
      "55793.6033\n",
      "55792.5562\n",
      "\n",
      "55827.2513\n",
      "55826.1262\n",
      "\n",
      "55860.8993\n",
      "55859.6845\n",
      "\n",
      "55894.5473\n",
      "55893.2891\n",
      "\n",
      "55961.8433\n",
      "55960.5704\n",
      "\n",
      "56029.1393\n",
      "56027.709\n",
      "\n",
      "56062.7873\n",
      "56061.2821\n",
      "\n",
      "56096.4353\n",
      "56094.8799\n",
      "\n",
      "56163.7313\n",
      "56162.1511\n",
      "\n",
      "56197.3793\n",
      "56195.7346\n",
      "\n",
      "56231.0273\n",
      "56229.3033\n",
      "\n",
      "56264.6753\n",
      "56262.8845\n",
      "\n",
      "56298.323300000004\n",
      "56296.5319\n",
      "\n",
      "56331.9713\n",
      "56330.1453\n",
      "\n",
      "56365.6193\n",
      "56363.7757\n",
      "\n",
      "56399.2673\n",
      "56397.3426\n",
      "\n"
     ]
    }
   ],
   "source": [
    "koi872_t0 = koi872['t0s'][0]\n",
    "n_transits = len(koi872['t0s'])\n",
    "\n",
    "koi872_ttvs = []\n",
    "for ii in range(0, n_transits):\n",
    "    epoch = koi872['epoch'][ii]-1\n",
    "    koi872_linear_t0 = koi872_t0 + koi872_period*epoch\n",
    "    print(koi872_linear_t0)\n",
    "    print(koi872['t0s'][ii])\n",
    "    print('')\n",
    "    \n",
    "    koi872_ttv = koi872_linear_t0 - koi872['t0s'][ii]\n",
    "    koi872_ttvs.append(koi872_ttv)\n",
    "    "
   ]
  },
  {
   "cell_type": "code",
   "execution_count": 26,
   "metadata": {},
   "outputs": [
    {
     "data": {
      "text/plain": [
       "[<matplotlib.lines.Line2D at 0x7fcfae87a7f0>]"
      ]
     },
     "execution_count": 26,
     "metadata": {},
     "output_type": "execute_result"
    },
    {
     "data": {
      "image/png": "[encoded data removed]",
      "text/plain": [
       "<Figure size 432x288 with 1 Axes>"
      ]
     },
     "metadata": {
      "needs_background": "light"
     },
     "output_type": "display_data"
    }
   ],
   "source": [
    "plt.plot(koi872['t0s'], koi872_ttvs, 'o')"
   ]
  },
  {
   "cell_type": "code",
   "execution_count": 11,
   "metadata": {},
   "outputs": [
    {
     "name": "stdout",
     "output_type": "stream",
     "text": [
      "     epoch         t0  t0_err\n",
      "0        0    55.0801  0.0006\n",
      "1        1    66.0069  0.0006\n",
      "2        2    76.9294  0.0006\n",
      "3        3    87.8535  0.0006\n",
      "4        4    98.7724  0.0006\n",
      "..     ...        ...     ...\n",
      "447    447  4951.2081  0.0131\n",
      "448    448  4962.2134  0.0135\n",
      "449    449  4973.2220  0.0143\n",
      "450    450  4984.2241  0.0149\n",
      "451    451  4995.2267  0.0158\n",
      "\n",
      "[452 rows x 3 columns]\n"
     ]
    }
   ],
   "source": [
    "#koi142 times from https://arxiv.org/pdf/1909.02427.pdf\n",
    "#koi142 period from https://arxiv.org/pdf/1909.02427.pdf\n",
    "koi142_period = 10.95\n",
    "print(koi142)"
   ]
  },
  {
   "cell_type": "code",
   "execution_count": null,
   "metadata": {},
   "outputs": [],
   "source": []
  }
 ],
 "metadata": {
  "kernelspec": {
   "display_name": "Python 3",
   "language": "python",
   "name": "python3"
  },
  "language_info": {
   "codemirror_mode": {
    "name": "ipython",
    "version": 3
   },
   "file_extension": ".py",
   "mimetype": "text/x-python",
   "name": "python",
   "nbconvert_exporter": "python",
   "pygments_lexer": "ipython3",
   "version": "3.6.8"
  }
 },
 "nbformat": 4,
 "nbformat_minor": 2
}
